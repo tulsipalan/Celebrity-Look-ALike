{
  "nbformat": 4,
  "nbformat_minor": 0,
  "metadata": {
    "colab": {
      "name": "FR_with_SVM",
      "provenance": [],
      "collapsed_sections": []
    },
    "kernelspec": {
      "name": "python3",
      "display_name": "Python 3"
    }
  },
  "cells": [
    {
      "cell_type": "code",
      "metadata": {
        "id": "9ILKPALQsxOY"
      },
      "source": [
        "!pip install face_recognition"
      ],
      "execution_count": null,
      "outputs": []
    },
    {
      "cell_type": "code",
      "metadata": {
        "id": "8xoZD2Vhs0Zz"
      },
      "source": [
        "import face_recognition\n",
        "import cv2\n",
        "import numpy as np\n",
        "import pickle\n",
        "import operator\n",
        "import os\n",
        "from sklearn import svm"
      ],
      "execution_count": null,
      "outputs": []
    },
    {
      "cell_type": "code",
      "metadata": {
        "id": "aBHD_5yOs60Q"
      },
      "source": [
        "# Loading of pickle file for feature extraction of the uploaded dataset\n",
        "\n",
        "with open('celeb_embedding.pickle', 'rb') as f:\n",
        "    data = pickle.load(f)\n",
        "f.close()"
      ],
      "execution_count": null,
      "outputs": []
    },
    {
      "cell_type": "code",
      "metadata": {
        "id": "jkfAu9sVs98R"
      },
      "source": [
        "# Making lists from the given dictionary\n",
        "\n",
        "known_face_encodings = data[\"embeddings\"]\n",
        "known_face_imgpath = data[\"paths\"]\n",
        "#print(known_face_imgpath[0])\n",
        "known_face_names = data[\"names\"]"
      ],
      "execution_count": null,
      "outputs": []
    },
    {
      "cell_type": "code",
      "metadata": {
        "id": "QIcRqXzitArl"
      },
      "source": [
        "\n",
        "from sklearn import svm\n",
        "clf = svm.SVC(gamma='scale')\n",
        "clf.fit(known_face_encodings,known_face_imgpath)"
      ],
      "execution_count": null,
      "outputs": []
    },
    {
      "cell_type": "code",
      "metadata": {
        "id": "MejKPgDatAoE"
      },
      "source": [
        "# Loading of test image\n",
        "\n",
        "frame = cv2.imread('t.jpg')\n",
        "rgb_frame = frame[:, :, ::-1]\n",
        "rgb_frame"
      ],
      "execution_count": null,
      "outputs": []
    },
    {
      "cell_type": "code",
      "metadata": {
        "id": "6ooBsPbktFWs"
      },
      "source": [
        "#feature extraction of test image\n",
        "\n",
        "face_locations = face_recognition.face_locations(rgb_frame)\n",
        "num = len(face_locations)\n",
        "face_encodings = face_recognition.face_encodings(rgb_frame, face_locations)"
      ],
      "execution_count": null,
      "outputs": []
    },
    {
      "cell_type": "code",
      "metadata": {
        "id": "Y9PdoqsdtIDP"
      },
      "source": [
        "#svm classifier\n",
        "\n",
        "for i in range(num):\n",
        "  test_image_enc = face_recognition.face_encodings(rgb_frame)[i]\n",
        "  name = clf.predict([test_image_enc])\n",
        "  print(name)"
      ],
      "execution_count": null,
      "outputs": []
    },
    {
      "cell_type": "code",
      "metadata": {
        "id": "3bi6XUTFtSD4"
      },
      "source": [
        ""
      ],
      "execution_count": null,
      "outputs": []
    },
    {
      "cell_type": "code",
      "metadata": {
        "id": "Y2ONVvlnvE_R"
      },
      "source": [
        "directory_pth = 'drive/My Drive/dataset'\n",
        "img_path1 = name[0][:-6] +'/'+ name[0]\n",
        "print(img_path1)\n",
        "Celeb_imagePth = os.path.join(directory_pth, img_path1) \n",
        "print(Celeb_imagePth)"
      ],
      "execution_count": null,
      "outputs": []
    },
    {
      "cell_type": "code",
      "metadata": {
        "id": "sAY4__8RvG0F"
      },
      "source": [
        "celeb_img = cv2.imread(Celeb_imagePth)\n",
        "print(celeb_img)\n",
        "celeb_img = cv2.resize(celeb_img, (360, 420))\n",
        "test_img = cv2.resize(frame, (360, 420))"
      ],
      "execution_count": null,
      "outputs": []
    },
    {
      "cell_type": "code",
      "metadata": {
        "id": "bHHUmLATcU7j"
      },
      "source": [
        "from google.colab.patches import cv2_imshow\n",
        "\n",
        "img_concate_Hori=np.concatenate((test_img,celeb_img),axis=1)\n",
        "cv2_imshow(img_concate_Hori)\n",
        "k = cv2.waitKey(0)\n",
        "if k == 27:         # wait for ESC key to exit\n",
        "    cv2.destroyAllWindows()"
      ],
      "execution_count": null,
      "outputs": []
    }
  ]
}